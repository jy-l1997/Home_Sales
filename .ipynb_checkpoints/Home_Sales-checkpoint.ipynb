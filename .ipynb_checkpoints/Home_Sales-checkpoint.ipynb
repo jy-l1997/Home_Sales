{
 "cells": [
  {
   "cell_type": "code",
   "execution_count": 1,
   "metadata": {
    "colab": {
     "base_uri": "https://localhost:8080/"
    },
    "id": "w50zngCY4u1G",
    "outputId": "12e4fb36-3053-4e38-ce2f-9627a586af4d"
   },
   "outputs": [
    {
     "name": "stdout",
     "output_type": "stream",
     "text": [
      "\r",
      "0% [Working]\r",
      "            \r",
      "Get:1 https://cloud.r-project.org/bin/linux/ubuntu jammy-cran40/ InRelease [3,626 B]\n",
      "\r",
      "0% [Connecting to archive.ubuntu.com (91.189.91.83)] [Connecting to security.ubuntu.com (91.189.91.8\r",
      "0% [Connecting to archive.ubuntu.com (91.189.91.83)] [Connecting to security.ubuntu.com (91.189.91.8\r",
      "                                                                                                    \r",
      "Hit:2 https://developer.download.nvidia.com/compute/cuda/repos/ubuntu2204/x86_64  InRelease\n",
      "\r",
      "0% [Waiting for headers] [Waiting for headers] [Connecting to ppa.launchpadcontent.net (185.125.190.\r",
      "                                                                                                    \r",
      "Get:3 http://security.ubuntu.com/ubuntu jammy-security InRelease [110 kB]\n",
      "\r",
      "0% [Waiting for headers] [3 InRelease 14.2 kB/110 kB 13%] [Connecting to ppa.launchpadcontent.net (1\r",
      "                                                                                                    \r",
      "Hit:4 http://archive.ubuntu.com/ubuntu jammy InRelease\n",
      "Get:5 http://archive.ubuntu.com/ubuntu jammy-updates InRelease [119 kB]\n",
      "Get:6 http://archive.ubuntu.com/ubuntu jammy-backports InRelease [109 kB]\n",
      "Hit:7 https://ppa.launchpadcontent.net/c2d4u.team/c2d4u4.0+/ubuntu jammy InRelease\n",
      "Hit:8 https://ppa.launchpadcontent.net/deadsnakes/ppa/ubuntu jammy InRelease\n",
      "Get:9 http://archive.ubuntu.com/ubuntu jammy-updates/main amd64 Packages [1,535 kB]\n",
      "Hit:10 https://ppa.launchpadcontent.net/graphics-drivers/ppa/ubuntu jammy InRelease\n",
      "Hit:11 https://ppa.launchpadcontent.net/ubuntugis/ppa/ubuntu jammy InRelease\n",
      "Get:12 http://archive.ubuntu.com/ubuntu jammy-updates/universe amd64 Packages [1,294 kB]\n",
      "Get:13 http://archive.ubuntu.com/ubuntu jammy-updates/restricted amd64 Packages [1,520 kB]\n",
      "Fetched 4,690 kB in 2s (2,581 kB/s)\n",
      "Reading package lists... Done\n"
     ]
    }
   ],
   "source": [
    "import os\n",
    "# Find the latest version of spark 3.x  from http://www.apache.org/dist/spark/ and enter as the spark version\n",
    "# For example:\n",
    "# spark_version = 'spark-3.4.0'\n",
    "spark_version = 'spark-3.5.0'\n",
    "os.environ['SPARK_VERSION']=spark_version\n",
    "\n",
    "# Install Spark and Java\n",
    "!apt-get update\n",
    "!apt-get install openjdk-11-jdk-headless -qq > /dev/null\n",
    "!wget -q http://www.apache.org/dist/spark/$SPARK_VERSION/$SPARK_VERSION-bin-hadoop3.tgz\n",
    "!tar xf $SPARK_VERSION-bin-hadoop3.tgz\n",
    "!pip install -q findspark\n",
    "\n",
    "# Set Environment Variables\n",
    "os.environ[\"JAVA_HOME\"] = \"/usr/lib/jvm/java-11-openjdk-amd64\"\n",
    "os.environ[\"SPARK_HOME\"] = f\"/content/{spark_version}-bin-hadoop3\"\n",
    "\n",
    "# Start a SparkSession\n",
    "import findspark\n",
    "findspark.init()"
   ]
  },
  {
   "cell_type": "code",
   "execution_count": 2,
   "metadata": {
    "id": "nmASEHqE5V6o"
   },
   "outputs": [],
   "source": [
    "# Import packages\n",
    "from pyspark.sql import SparkSession\n",
    "import time\n",
    "\n",
    "# Create a SparkSession\n",
    "spark = SparkSession.builder.appName(\"SparkSQL\").getOrCreate()"
   ]
  },
  {
   "cell_type": "code",
   "execution_count": 3,
   "metadata": {
    "colab": {
     "base_uri": "https://localhost:8080/"
    },
    "id": "kZyWVzBT5Z1_",
    "outputId": "2297a980-5245-4c19-e7ca-e3a341ed8838"
   },
   "outputs": [
    {
     "name": "stdout",
     "output_type": "stream",
     "text": [
      "+--------------------+----------+----------+------+--------+---------+-----------+--------+------+----------+----+\n",
      "|                  id|      date|date_built| price|bedrooms|bathrooms|sqft_living|sqft_lot|floors|waterfront|view|\n",
      "+--------------------+----------+----------+------+--------+---------+-----------+--------+------+----------+----+\n",
      "|f8a53099-ba1c-47d...|2022-04-08|      2016|936923|       4|        3|       3167|   11733|     2|         1|  76|\n",
      "|7530a2d8-1ae3-451...|2021-06-13|      2013|379628|       2|        2|       2235|   14384|     1|         0|  23|\n",
      "|43de979c-0bf0-4c9...|2019-04-12|      2014|417866|       2|        2|       2127|   10575|     2|         0|   0|\n",
      "|b672c137-b88c-48b...|2019-10-16|      2016|239895|       2|        2|       1631|   11149|     2|         0|   0|\n",
      "|e0726d4d-d595-407...|2022-01-08|      2017|424418|       3|        2|       2249|   13878|     2|         0|   4|\n",
      "+--------------------+----------+----------+------+--------+---------+-----------+--------+------+----------+----+\n",
      "only showing top 5 rows\n",
      "\n"
     ]
    }
   ],
   "source": [
    "# 1. Read in the AWS S3 bucket into a DataFrame.\n",
    "from pyspark import SparkFiles\n",
    "url = \"https://2u-data-curriculum-team.s3.amazonaws.com/dataviz-classroom/v1.2/22-big-data/home_sales_revised.csv\"\n",
    "\n",
    "spark.sparkContext.addFile(url)\n",
    "df = spark.read.option('header', 'true').csv(SparkFiles.get('home_sales_revised.csv'), inferSchema = True, sep= ',',timestampFormat=\"yyyy/MM/dd HH:mm:ss\" )\n",
    "df.show(5)"
   ]
  },
  {
   "cell_type": "code",
   "execution_count": 4,
   "metadata": {
    "id": "_F9D4DlO5cle"
   },
   "outputs": [],
   "source": [
    "from posixpath import sep\n",
    "# 2. Create a temporary view of the DataFrame.\n",
    "\n",
    "df.createOrReplaceTempView('home_sales')"
   ]
  },
  {
   "cell_type": "code",
   "execution_count": 5,
   "metadata": {
    "colab": {
     "base_uri": "https://localhost:8080/"
    },
    "id": "ZPXpqkoZ5fsO",
    "outputId": "20c7d8bc-b163-499d-8d2c-829528d1fdc1"
   },
   "outputs": [
    {
     "name": "stdout",
     "output_type": "stream",
     "text": [
      "+---------+----+\n",
      "|Avg_Price|year|\n",
      "+---------+----+\n",
      "|307908.86|2015|\n",
      "|299999.39|2013|\n",
      "|299073.89|2014|\n",
      "|298233.42|2012|\n",
      "|296050.24|2016|\n",
      "|296800.75|2010|\n",
      "| 302141.9|2011|\n",
      "|296576.69|2017|\n",
      "+---------+----+\n",
      "\n"
     ]
    }
   ],
   "source": [
    "# 3. What is the average price for a four bedroom house sold in each year rounded to two decimal places?\n",
    "query = \"\"\"\n",
    "select\n",
    "        round(avg(price),2) as Avg_Price,\n",
    "        date_built as year\n",
    "from\n",
    "        home_sales\n",
    "where\n",
    "        bedrooms = 4\n",
    "group by\n",
    "        date_built\n",
    "\n",
    "\"\"\"\n",
    "\n",
    "spark.sql(query).show()\n"
   ]
  },
  {
   "cell_type": "code",
   "execution_count": 6,
   "metadata": {
    "colab": {
     "base_uri": "https://localhost:8080/"
    },
    "id": "9hndtPDM5g7s",
    "outputId": "5c799cdc-8210-4f85-ea71-8706bac8c438"
   },
   "outputs": [
    {
     "name": "stdout",
     "output_type": "stream",
     "text": [
      "+---------+----+\n",
      "|Avg_Price|year|\n",
      "+---------+----+\n",
      "| 288770.3|2015|\n",
      "|295962.27|2013|\n",
      "|290852.27|2014|\n",
      "|293683.19|2012|\n",
      "|290555.07|2016|\n",
      "|292859.62|2010|\n",
      "|291117.47|2011|\n",
      "|292676.79|2017|\n",
      "+---------+----+\n",
      "\n"
     ]
    }
   ],
   "source": [
    "# 4. What is the average price of a home for each year the home was built that have 3 bedrooms and 3 bathrooms rounded to two decimal places?\n",
    "\n",
    "query2 = \"\"\"\n",
    "select\n",
    "      round(avg(price),2) as Avg_Price,\n",
    "      date_built as year\n",
    "from\n",
    "      home_sales\n",
    "where\n",
    "      bedrooms = 3\n",
    "and\n",
    "      bathrooms = 3\n",
    "group by\n",
    "      date_built\n",
    "\n",
    "\"\"\"\n",
    "\n",
    "spark.sql(query2).show()"
   ]
  },
  {
   "cell_type": "code",
   "execution_count": 7,
   "metadata": {
    "colab": {
     "base_uri": "https://localhost:8080/"
    },
    "id": "SJmE-Epe5iGG",
    "outputId": "b30491f0-9a6f-4cc8-f903-3c610c4b8c9d"
   },
   "outputs": [
    {
     "name": "stdout",
     "output_type": "stream",
     "text": [
      "+---------+----+\n",
      "|Avg_Price|year|\n",
      "+---------+----+\n",
      "|297609.97|2015|\n",
      "|303676.79|2013|\n",
      "|298264.72|2014|\n",
      "|307539.97|2012|\n",
      "| 293965.1|2016|\n",
      "|285010.22|2010|\n",
      "|276553.81|2011|\n",
      "|280317.58|2017|\n",
      "+---------+----+\n",
      "\n"
     ]
    }
   ],
   "source": [
    "# 5. What is the average price of a home for each year built that have 3 bedrooms, 3 bathrooms, with two floors,\n",
    "# and are greater than or equal to 2,000 square feet rounded to two decimal places?\n",
    "query3 = \"\"\"\n",
    "select\n",
    "      round(avg(price),2) as Avg_Price,\n",
    "      date_built as year\n",
    "from\n",
    "      home_sales\n",
    "where\n",
    "      bedrooms = 3\n",
    "and\n",
    "      bathrooms = 3\n",
    "and\n",
    "      floors = 2\n",
    "and\n",
    "      sqft_living >= 2000\n",
    "group by\n",
    "      date_built\n",
    "\n",
    "\"\"\"\n",
    "\n",
    "spark.sql(query3).show()\n"
   ]
  },
  {
   "cell_type": "code",
   "execution_count": 19,
   "metadata": {
    "colab": {
     "base_uri": "https://localhost:8080/"
    },
    "id": "7m1u7d915jat",
    "outputId": "acf76dcf-b233-46b5-fe10-d5653d0aacf4"
   },
   "outputs": [
    {
     "name": "stdout",
     "output_type": "stream",
     "text": [
      "+---------+----+\n",
      "|Avg_Price|view|\n",
      "+---------+----+\n",
      "|403848.51|   0|\n",
      "|401044.25|   1|\n",
      "|397389.25|   2|\n",
      "| 398867.6|   3|\n",
      "|399631.89|   4|\n",
      "|401471.82|   5|\n",
      "|395655.38|   6|\n",
      "|403005.77|   7|\n",
      "|398592.71|   8|\n",
      "|401393.34|   9|\n",
      "|401868.43|  10|\n",
      "|399548.12|  11|\n",
      "|401501.32|  12|\n",
      "|398917.98|  13|\n",
      "|398570.03|  14|\n",
      "| 404673.3|  15|\n",
      "|399586.53|  16|\n",
      "|398474.49|  17|\n",
      "|399332.91|  18|\n",
      "|398953.17|  19|\n",
      "+---------+----+\n",
      "only showing top 20 rows\n",
      "\n",
      "0.7258 seconds\n"
     ]
    }
   ],
   "source": [
    "# 6. What is the \"view\" rating for the average price of a home, rounded to two decimal places, where the homes are greater than\n",
    "# or equal to $350,000? Although this is a small dataset, determine the run time for this query.\n",
    "\n",
    "start = time.time()\n",
    "\n",
    "query4 = \"\"\"\n",
    "select\n",
    "  round(avg(price),2) as Avg_Price, view\n",
    "from\n",
    "  home_sales\n",
    "where\n",
    "  price >= 350000\n",
    "group by\n",
    "  view\n",
    "order by\n",
    "  view\n",
    "\n",
    "\"\"\"\n",
    "\n",
    "spark.sql(query4).show()\n",
    "\n",
    "\n",
    "print(f\"{round(time.time() - start,4)} seconds\")"
   ]
  },
  {
   "cell_type": "code",
   "execution_count": 9,
   "metadata": {
    "colab": {
     "base_uri": "https://localhost:8080/"
    },
    "id": "x253uXRMWOdw",
    "outputId": "e797f102-f4cc-454f-b94a-72d050a8183e"
   },
   "outputs": [
    {
     "data": {
      "text/plain": [
       "DataFrame[]"
      ]
     },
     "execution_count": 9,
     "metadata": {},
     "output_type": "execute_result"
    }
   ],
   "source": [
    "# 7. Cache the the temporary table home_sales.\n",
    "spark.sql(\"cache table home_sales\")"
   ]
  },
  {
   "cell_type": "code",
   "execution_count": 10,
   "metadata": {
    "colab": {
     "base_uri": "https://localhost:8080/"
    },
    "id": "BJkmtCtMWsh9",
    "outputId": "ea588dd4-a4e0-4239-c0fa-20f01ac03534"
   },
   "outputs": [
    {
     "data": {
      "text/plain": [
       "True"
      ]
     },
     "execution_count": 10,
     "metadata": {},
     "output_type": "execute_result"
    }
   ],
   "source": [
    "# 8. Check if the table is cached.\n",
    "spark.catalog.isCached('home_sales')"
   ]
  },
  {
   "cell_type": "code",
   "execution_count": 20,
   "metadata": {
    "colab": {
     "base_uri": "https://localhost:8080/"
    },
    "id": "6bdK_wNbWugk",
    "outputId": "28419930-f891-4863-ae46-74873117725b"
   },
   "outputs": [
    {
     "name": "stdout",
     "output_type": "stream",
     "text": [
      "+---------+----+\n",
      "|Avg_Price|view|\n",
      "+---------+----+\n",
      "|403848.51|   0|\n",
      "|401044.25|   1|\n",
      "|397389.25|   2|\n",
      "| 398867.6|   3|\n",
      "|399631.89|   4|\n",
      "|401471.82|   5|\n",
      "|395655.38|   6|\n",
      "|403005.77|   7|\n",
      "|398592.71|   8|\n",
      "|401393.34|   9|\n",
      "|401868.43|  10|\n",
      "|399548.12|  11|\n",
      "|401501.32|  12|\n",
      "|398917.98|  13|\n",
      "|398570.03|  14|\n",
      "| 404673.3|  15|\n",
      "|399586.53|  16|\n",
      "|398474.49|  17|\n",
      "|399332.91|  18|\n",
      "|398953.17|  19|\n",
      "+---------+----+\n",
      "only showing top 20 rows\n",
      "\n",
      "0.547 seconds\n"
     ]
    }
   ],
   "source": [
    "# 9. Using the cached data, run the query that filters out the view ratings with average price\n",
    "#  greater than or equal to $350,000. Determine the runtime and compare it to uncached runtime.\n",
    "\n",
    "start = time.time()\n",
    "\n",
    "query5 = \"\"\"\n",
    "select round(avg(price),2) as Avg_Price, view\n",
    "from home_sales\n",
    "where price >=  350000\n",
    "group by view\n",
    "order by view\n",
    "\n",
    "\"\"\"\n",
    "\n",
    "spark.sql(query5).show()\n",
    "\n",
    "print(f\"{round(time.time() - start,4)} seconds\")"
   ]
  },
  {
   "cell_type": "code",
   "execution_count": 12,
   "metadata": {
    "id": "gFRBbixVWxtW"
   },
   "outputs": [],
   "source": [
    "# 10. Partition by the \"date_built\" field on the formatted parquet home sales data\n",
    "df.write.partitionBy(\"date_built\").mode(\"overwrite\").parquet(\"home_sales_partn_parq\")"
   ]
  },
  {
   "cell_type": "code",
   "execution_count": 13,
   "metadata": {
    "id": "paF-6o8NW0KS"
   },
   "outputs": [],
   "source": [
    "# 11. Read the parquet formatted data.\n",
    "home_sales_partn_parq = spark.read.parquet(\"home_sales_partn_parq\")"
   ]
  },
  {
   "cell_type": "code",
   "execution_count": 14,
   "metadata": {
    "id": "awCkUfx1W1AW"
   },
   "outputs": [],
   "source": [
    "# 12. Create a temporary table for the parquet data.\n",
    "home_sales_partn_parq.createOrReplaceTempView(\"home_sales_partn_parq_view\")"
   ]
  },
  {
   "cell_type": "code",
   "execution_count": 21,
   "metadata": {
    "colab": {
     "base_uri": "https://localhost:8080/"
    },
    "id": "401eOm6bW1Q7",
    "outputId": "e27e5a32-8444-48c3-b4ad-0828f6f8528b"
   },
   "outputs": [
    {
     "name": "stdout",
     "output_type": "stream",
     "text": [
      "+---------+----+\n",
      "|Avg_Price|view|\n",
      "+---------+----+\n",
      "|403848.51|   0|\n",
      "|401044.25|   1|\n",
      "|397389.25|   2|\n",
      "| 398867.6|   3|\n",
      "|399631.89|   4|\n",
      "|401471.82|   5|\n",
      "|395655.38|   6|\n",
      "|403005.77|   7|\n",
      "|398592.71|   8|\n",
      "|401393.34|   9|\n",
      "|401868.43|  10|\n",
      "|399548.12|  11|\n",
      "|401501.32|  12|\n",
      "|398917.98|  13|\n",
      "|398570.03|  14|\n",
      "| 404673.3|  15|\n",
      "|399586.53|  16|\n",
      "|398474.49|  17|\n",
      "|399332.91|  18|\n",
      "|398953.17|  19|\n",
      "+---------+----+\n",
      "only showing top 20 rows\n",
      "\n",
      "0.5618 seconds\n"
     ]
    }
   ],
   "source": [
    "# 13. Run the query that filters out the view ratings with average price of greater than or equal to $350,000\n",
    "# with the parquet DataFrame. Round your average to two decimal places.\n",
    "# Determine the runtime and compare it to the cached version.\n",
    "\n",
    "start = time.time()\n",
    "\n",
    "query6 = \"\"\"\n",
    "select round(avg(price),2) as Avg_Price, view\n",
    "from home_sales_partn_parq_view\n",
    "where price > 350000\n",
    "group by view\n",
    "order by view\n",
    "\n",
    "\"\"\"\n",
    "\n",
    "spark.sql(query6).show()\n",
    "\n",
    "\n",
    "print(f\"{round(time.time() - start,4)} seconds\")"
   ]
  },
  {
   "cell_type": "code",
   "execution_count": 16,
   "metadata": {
    "colab": {
     "base_uri": "https://localhost:8080/"
    },
    "id": "0eywrzV2W1eu",
    "outputId": "716a459f-005a-45f0-9bcd-43e683039c8a"
   },
   "outputs": [
    {
     "data": {
      "text/plain": [
       "DataFrame[]"
      ]
     },
     "execution_count": 16,
     "metadata": {},
     "output_type": "execute_result"
    }
   ],
   "source": [
    "# 14. Uncache the home_sales temporary table.\n",
    "spark.sql(\"uncache table home_sales\")"
   ]
  },
  {
   "cell_type": "code",
   "execution_count": 17,
   "metadata": {
    "colab": {
     "base_uri": "https://localhost:8080/"
    },
    "id": "071pbs7lW21-",
    "outputId": "e3a8541e-d6ca-42b2-acb0-fad3a772ee2f"
   },
   "outputs": [
    {
     "data": {
      "text/plain": [
       "False"
      ]
     },
     "execution_count": 17,
     "metadata": {},
     "output_type": "execute_result"
    }
   ],
   "source": [
    "# 15. Check if the home_sales is no longer cached\n",
    "spark.catalog.isCached(\"home_sales\")"
   ]
  },
  {
   "cell_type": "code",
   "execution_count": null,
   "metadata": {},
   "outputs": [],
   "source": []
  }
 ],
 "metadata": {
  "colab": {
   "provenance": []
  },
  "kernelspec": {
   "display_name": "Python 3 (ipykernel)",
   "language": "python",
   "name": "python3"
  },
  "language_info": {
   "codemirror_mode": {
    "name": "ipython",
    "version": 3
   },
   "file_extension": ".py",
   "mimetype": "text/x-python",
   "name": "python",
   "nbconvert_exporter": "python",
   "pygments_lexer": "ipython3",
   "version": "3.11.5"
  }
 },
 "nbformat": 4,
 "nbformat_minor": 1
}
